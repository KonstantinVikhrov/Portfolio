{
 "cells": [
  {
   "cell_type": "markdown",
   "metadata": {},
   "source": [
    "# Проект для «Викишоп»"
   ]
  },
  {
   "cell_type": "markdown",
   "metadata": {},
   "source": [
    "Интернет-магазин «Викишоп» запускает новый сервис. Теперь пользователи могут редактировать и дополнять описания товаров, как в вики-сообществах. То есть клиенты предлагают свои правки и комментируют изменения других. Магазину нужен инструмент, который будет искать токсичные комментарии и отправлять их на модерацию. \n",
    "\n",
    "Нам нужно обучить модель классифицировать комментарии на позитивные и негативные. В нашем распоряжении набор данных с разметкой о токсичности правок.\n",
    "\n",
    "Требуется модель со значением метрики качества *F1* не меньше 0.75. \n",
    "\n",
    "**Описание данных**\n",
    "\n",
    "Данные находятся в файле `toxic_comments.csv`. Столбец *text* в нём содержит текст комментария, а *toxic* — целевой признак."
   ]
  },
  {
   "cell_type": "markdown",
   "metadata": {},
   "source": [
    "## Подготовка"
   ]
  },
  {
   "cell_type": "code",
   "execution_count": 1,
   "metadata": {},
   "outputs": [],
   "source": [
    "import pandas as pd\n",
    "import matplotlib.pyplot as plt\n",
    "import re\n",
    "import nltk\n",
    "from nltk.corpus import stopwords as nltk_stopwords\n",
    "from nltk.stem import WordNetLemmatizer\n",
    "\n",
    "from sklearn.model_selection import (train_test_split,\n",
    "                                    GridSearchCV)\n",
    "from sklearn.feature_extraction.text import TfidfVectorizer\n",
    "\n",
    "from sklearn.linear_model import LogisticRegression\n",
    "from sklearn.ensemble import RandomForestClassifier\n",
    "from sklearn.dummy import DummyClassifier\n",
    "\n",
    "import lightgbm as lgb\n",
    "from lightgbm import LGBMClassifier\n",
    "\n",
    "from sklearn.metrics import f1_score\n",
    "\n",
    "from pymystem3 import Mystem\n",
    "from tqdm import notebook\n",
    "\n",
    "import spacy"
   ]
  },
  {
   "cell_type": "code",
   "execution_count": 2,
   "metadata": {},
   "outputs": [
    {
     "name": "stderr",
     "output_type": "stream",
     "text": [
      "[nltk_data] Downloading package stopwords to\n",
      "[nltk_data]     C:\\Users\\Константин\\AppData\\Roaming\\nltk_data...\n",
      "[nltk_data]   Package stopwords is already up-to-date!\n"
     ]
    }
   ],
   "source": [
    "# константы\n",
    "RANDOM_STATE = 12345\n",
    "\n",
    "# словарь слова без смысловой нагрузки\n",
    "nltk.download('stopwords')\n",
    "stopwords1 = set(nltk_stopwords.words('english'))\n",
    "STOPWORDS=list(stopwords1)\n",
    "\n",
    "# метрика расчитываемая при кросс-валидации\n",
    "SCORER = 'f1'\n",
    "\n",
    "# инициализируйте пространственную модель 'en_core_web_sm',\n",
    "# сохранив только компонент теггера, необходимый для лемматизац\n",
    "nlp = spacy.load('en_core_web_sm', disable=['parser', 'ner'])"
   ]
  },
  {
   "cell_type": "code",
   "execution_count": 3,
   "metadata": {},
   "outputs": [],
   "source": [
    "try:\n",
    "    toxic_comments_data = pd.read_csv('/datasets/toxic_comments.csv')\n",
    "except:\n",
    "    toxic_comments_data = (pd.read_csv('C:\\\\Users\\\\Константин\\\\Desktop\\\\Файлы\\\\Модуль 3\\\\Машинное обучение для текстов\\\\toxic_comments.csv'))"
   ]
  },
  {
   "cell_type": "code",
   "execution_count": 4,
   "metadata": {},
   "outputs": [],
   "source": [
    "# функция для вывода основной информации о данных\n",
    "def data_research1(data):\n",
    "    display(data.head())\n",
    "    print()\n",
    "    data.info()\n",
    "    print()\n",
    "    print('Пропуски:', data.isna().sum().sum(), 'это {:.2%} от всех данных.'\n",
    "          .format(data.isna().sum().sum() / (data.shape[0] * data.shape[1])))\n",
    "    print()\n",
    "    print('Процент (%) пропусков в каждой категории данных.')\n",
    "    display((data.isna().sum() / data.shape[0]) * 100)\n",
    "    print()\n",
    "    print('Явные дубликаты:', data.duplicated().sum(), 'это {:.2%} от всех данных.'\n",
    "          .format(data.duplicated().sum() / data.shape[0]))\n",
    "    \n",
    "    # строим график распределения \n",
    "    data.hist(bins=100,figsize=(30, 10))"
   ]
  },
  {
   "cell_type": "code",
   "execution_count": 5,
   "metadata": {},
   "outputs": [
    {
     "data": {
      "text/html": [
       "<div>\n",
       "<style scoped>\n",
       "    .dataframe tbody tr th:only-of-type {\n",
       "        vertical-align: middle;\n",
       "    }\n",
       "\n",
       "    .dataframe tbody tr th {\n",
       "        vertical-align: top;\n",
       "    }\n",
       "\n",
       "    .dataframe thead th {\n",
       "        text-align: right;\n",
       "    }\n",
       "</style>\n",
       "<table border=\"1\" class=\"dataframe\">\n",
       "  <thead>\n",
       "    <tr style=\"text-align: right;\">\n",
       "      <th></th>\n",
       "      <th>Unnamed: 0</th>\n",
       "      <th>text</th>\n",
       "      <th>toxic</th>\n",
       "    </tr>\n",
       "  </thead>\n",
       "  <tbody>\n",
       "    <tr>\n",
       "      <th>0</th>\n",
       "      <td>0</td>\n",
       "      <td>Explanation\\nWhy the edits made under my usern...</td>\n",
       "      <td>0</td>\n",
       "    </tr>\n",
       "    <tr>\n",
       "      <th>1</th>\n",
       "      <td>1</td>\n",
       "      <td>D'aww! He matches this background colour I'm s...</td>\n",
       "      <td>0</td>\n",
       "    </tr>\n",
       "    <tr>\n",
       "      <th>2</th>\n",
       "      <td>2</td>\n",
       "      <td>Hey man, I'm really not trying to edit war. It...</td>\n",
       "      <td>0</td>\n",
       "    </tr>\n",
       "    <tr>\n",
       "      <th>3</th>\n",
       "      <td>3</td>\n",
       "      <td>\"\\nMore\\nI can't make any real suggestions on ...</td>\n",
       "      <td>0</td>\n",
       "    </tr>\n",
       "    <tr>\n",
       "      <th>4</th>\n",
       "      <td>4</td>\n",
       "      <td>You, sir, are my hero. Any chance you remember...</td>\n",
       "      <td>0</td>\n",
       "    </tr>\n",
       "  </tbody>\n",
       "</table>\n",
       "</div>"
      ],
      "text/plain": [
       "   Unnamed: 0                                               text  toxic\n",
       "0           0  Explanation\\nWhy the edits made under my usern...      0\n",
       "1           1  D'aww! He matches this background colour I'm s...      0\n",
       "2           2  Hey man, I'm really not trying to edit war. It...      0\n",
       "3           3  \"\\nMore\\nI can't make any real suggestions on ...      0\n",
       "4           4  You, sir, are my hero. Any chance you remember...      0"
      ]
     },
     "metadata": {},
     "output_type": "display_data"
    },
    {
     "name": "stdout",
     "output_type": "stream",
     "text": [
      "\n",
      "<class 'pandas.core.frame.DataFrame'>\n",
      "RangeIndex: 159292 entries, 0 to 159291\n",
      "Data columns (total 3 columns):\n",
      " #   Column      Non-Null Count   Dtype \n",
      "---  ------      --------------   ----- \n",
      " 0   Unnamed: 0  159292 non-null  int64 \n",
      " 1   text        159292 non-null  object\n",
      " 2   toxic       159292 non-null  int64 \n",
      "dtypes: int64(2), object(1)\n",
      "memory usage: 3.6+ MB\n",
      "\n",
      "Пропуски: 0 это 0.00% от всех данных.\n",
      "\n",
      "Процент (%) пропусков в каждой категории данных.\n"
     ]
    },
    {
     "data": {
      "text/plain": [
       "Unnamed: 0    0.0\n",
       "text          0.0\n",
       "toxic         0.0\n",
       "dtype: float64"
      ]
     },
     "metadata": {},
     "output_type": "display_data"
    },
    {
     "name": "stdout",
     "output_type": "stream",
     "text": [
      "\n",
      "Явные дубликаты: 0 это 0.00% от всех данных.\n"
     ]
    },
    {
     "data": {
      "image/png": "[encoded data removed]",
      "text/plain": [
       "<Figure size 3000x1000 with 2 Axes>"
      ]
     },
     "metadata": {},
     "output_type": "display_data"
    }
   ],
   "source": [
    "data_research1(toxic_comments_data)"
   ]
  },
  {
   "cell_type": "markdown",
   "metadata": {},
   "source": [
    "В данных отсутствуют дубликаты и пропуски, но имеется столбец с копией индексов и дисбаланс целевого признака. Будем устранять."
   ]
  },
  {
   "cell_type": "code",
   "execution_count": 6,
   "metadata": {},
   "outputs": [],
   "source": [
    "# удаление столбца\n",
    "toxic_comments = (toxic_comments_data.copy(deep=True)                                \n",
    "                  .drop(['Unnamed: 0'], axis=1))"
   ]
  },
  {
   "cell_type": "code",
   "execution_count": 7,
   "metadata": {},
   "outputs": [],
   "source": [
    "# изменение типа данных\n",
    "toxic_comments['toxic'] = toxic_comments['toxic'].astype('int8')"
   ]
  },
  {
   "cell_type": "markdown",
   "metadata": {},
   "source": [
    "Очистим от лишних символов и приведение слова к начальной форме."
   ]
  },
  {
   "cell_type": "code",
   "execution_count": 10,
   "metadata": {},
   "outputs": [
    {
     "name": "stdout",
     "output_type": "stream",
     "text": [
      "Explanation\n",
      "Why the edits made under my username Hardcore Metallica Fan were reverted? They weren't vandalisms, just closure on some GAs after I voted at New York Dolls FAC. And please don't remove the template from the talk page since I'm retired now.89.205.38.27\n"
     ]
    },
    {
     "data": {
      "text/html": [
       "<div>\n",
       "<style scoped>\n",
       "    .dataframe tbody tr th:only-of-type {\n",
       "        vertical-align: middle;\n",
       "    }\n",
       "\n",
       "    .dataframe tbody tr th {\n",
       "        vertical-align: top;\n",
       "    }\n",
       "\n",
       "    .dataframe thead th {\n",
       "        text-align: right;\n",
       "    }\n",
       "</style>\n",
       "<table border=\"1\" class=\"dataframe\">\n",
       "  <thead>\n",
       "    <tr style=\"text-align: right;\">\n",
       "      <th></th>\n",
       "      <th>text</th>\n",
       "      <th>toxic</th>\n",
       "    </tr>\n",
       "  </thead>\n",
       "  <tbody>\n",
       "    <tr>\n",
       "      <th>0</th>\n",
       "      <td>Explanation\\nWhy the edits made under my usern...</td>\n",
       "      <td>0</td>\n",
       "    </tr>\n",
       "    <tr>\n",
       "      <th>1</th>\n",
       "      <td>D'aww! He matches this background colour I'm s...</td>\n",
       "      <td>0</td>\n",
       "    </tr>\n",
       "    <tr>\n",
       "      <th>2</th>\n",
       "      <td>Hey man, I'm really not trying to edit war. It...</td>\n",
       "      <td>0</td>\n",
       "    </tr>\n",
       "    <tr>\n",
       "      <th>3</th>\n",
       "      <td>\"\\nMore\\nI can't make any real suggestions on ...</td>\n",
       "      <td>0</td>\n",
       "    </tr>\n",
       "    <tr>\n",
       "      <th>4</th>\n",
       "      <td>You, sir, are my hero. Any chance you remember...</td>\n",
       "      <td>0</td>\n",
       "    </tr>\n",
       "  </tbody>\n",
       "</table>\n",
       "</div>"
      ],
      "text/plain": [
       "                                                text  toxic\n",
       "0  Explanation\\nWhy the edits made under my usern...      0\n",
       "1  D'aww! He matches this background colour I'm s...      0\n",
       "2  Hey man, I'm really not trying to edit war. It...      0\n",
       "3  \"\\nMore\\nI can't make any real suggestions on ...      0\n",
       "4  You, sir, are my hero. Any chance you remember...      0"
      ]
     },
     "execution_count": 10,
     "metadata": {},
     "output_type": "execute_result"
    }
   ],
   "source": [
    "print(toxic_comments['text'][0])\n",
    "toxic_comments.head()"
   ]
  },
  {
   "cell_type": "code",
   "execution_count": 15,
   "metadata": {},
   "outputs": [],
   "source": [
    "# функция лемматизации\n",
    "def lemmatization(text):   \n",
    "    # анализ предложения, используя загруженный объект модели 'en_core_web_sm' `nlp`\n",
    "    doc = nlp(text)\n",
    "    # извлечение леммы для каждого токена\n",
    "    text_clean =  \" \".join([token.lemma_ for token in doc])\n",
    "    # удаление всех символов  кроме букв латинского алфавита и привидение символов к одному регистру\n",
    "    text_clean_2 = re.sub(r'[^a-zA-Z]', ' ', text_clean).lower()\n",
    "    # удаление лишних пробелов\n",
    "    return \" \".join(text_clean_2.split())"
   ]
  },
  {
   "cell_type": "code",
   "execution_count": 16,
   "metadata": {},
   "outputs": [
    {
     "data": {
      "application/vnd.jupyter.widget-view+json": {
       "model_id": "267b1d045d6b4f429b7a0f32126976f6",
       "version_major": 2,
       "version_minor": 0
      },
      "text/plain": [
       "  0%|          | 0/159292 [00:00<?, ?it/s]"
      ]
     },
     "metadata": {},
     "output_type": "display_data"
    }
   ],
   "source": [
    "# лемматизации текста в данных\n",
    "notebook.tqdm.pandas()\n",
    "toxic_comments['text']= toxic_comments['text'].progress_apply(lemmatization)"
   ]
  },
  {
   "cell_type": "code",
   "execution_count": 17,
   "metadata": {
    "scrolled": true
   },
   "outputs": [
    {
     "name": "stdout",
     "output_type": "stream",
     "text": [
      "explanation why the edit make under my username hardcore metallica fan be revert they be not vandalism just closure on some gas after i vote at new york dolls fac and please do not remove the template from the talk page since i be retire now\n"
     ]
    },
    {
     "data": {
      "text/html": [
       "<div>\n",
       "<style scoped>\n",
       "    .dataframe tbody tr th:only-of-type {\n",
       "        vertical-align: middle;\n",
       "    }\n",
       "\n",
       "    .dataframe tbody tr th {\n",
       "        vertical-align: top;\n",
       "    }\n",
       "\n",
       "    .dataframe thead th {\n",
       "        text-align: right;\n",
       "    }\n",
       "</style>\n",
       "<table border=\"1\" class=\"dataframe\">\n",
       "  <thead>\n",
       "    <tr style=\"text-align: right;\">\n",
       "      <th></th>\n",
       "      <th>text</th>\n",
       "      <th>toxic</th>\n",
       "    </tr>\n",
       "  </thead>\n",
       "  <tbody>\n",
       "    <tr>\n",
       "      <th>0</th>\n",
       "      <td>explanation why the edit make under my usernam...</td>\n",
       "      <td>0</td>\n",
       "    </tr>\n",
       "    <tr>\n",
       "      <th>1</th>\n",
       "      <td>d aww he match this background colour i be see...</td>\n",
       "      <td>0</td>\n",
       "    </tr>\n",
       "    <tr>\n",
       "      <th>2</th>\n",
       "      <td>hey man i be really not try to edit war it be ...</td>\n",
       "      <td>0</td>\n",
       "    </tr>\n",
       "    <tr>\n",
       "      <th>3</th>\n",
       "      <td>more i can not make any real suggestion on imp...</td>\n",
       "      <td>0</td>\n",
       "    </tr>\n",
       "    <tr>\n",
       "      <th>4</th>\n",
       "      <td>you sir be my hero any chance you remember wha...</td>\n",
       "      <td>0</td>\n",
       "    </tr>\n",
       "  </tbody>\n",
       "</table>\n",
       "</div>"
      ],
      "text/plain": [
       "                                                text  toxic\n",
       "0  explanation why the edit make under my usernam...      0\n",
       "1  d aww he match this background colour i be see...      0\n",
       "2  hey man i be really not try to edit war it be ...      0\n",
       "3  more i can not make any real suggestion on imp...      0\n",
       "4  you sir be my hero any chance you remember wha...      0"
      ]
     },
     "execution_count": 17,
     "metadata": {},
     "output_type": "execute_result"
    }
   ],
   "source": [
    "print(toxic_comments['text'][0])\n",
    "toxic_comments.head()"
   ]
  },
  {
   "cell_type": "code",
   "execution_count": 18,
   "metadata": {},
   "outputs": [
    {
     "name": "stdout",
     "output_type": "stream",
     "text": [
      "0    0.898388\n",
      "1    0.101612\n",
      "Name: toxic, dtype: float64\n"
     ]
    },
    {
     "data": {
      "image/png": "[encoded data removed]",
      "text/plain": [
       "<Figure size 200x500 with 1 Axes>"
      ]
     },
     "metadata": {},
     "output_type": "display_data"
    }
   ],
   "source": [
    "# обзор соотношения классов до балансировки в данных\n",
    "class_frequency = toxic_comments['toxic'].value_counts(normalize=True)\n",
    "print(class_frequency)\n",
    "plt.figure(figsize=(2, 5))\n",
    "class_frequency.plot(kind='bar')\n",
    "plt.xlabel('Значение признака')\n",
    "plt.ylabel('Процент от обшего числа')\n",
    "plt.title('Распределение целевого признака')\n",
    "plt.show()"
   ]
  },
  {
   "cell_type": "code",
   "execution_count": 68,
   "metadata": {},
   "outputs": [],
   "source": [
    "# функция выполняет:\n",
    "# разделения данных на обучающую, валидационную и тестовую выборки\n",
    "# балансировку классов в обучающей выборке\n",
    "# вычисление TF-IDF\n",
    "def matrix_of_values(data, fraction, repeat):\n",
    "            \n",
    "    features = data.drop('toxic', axis=1)\n",
    "    target = data['toxic']\n",
    "    \n",
    "    # разделяем выборки в пропорции 60 20 20\n",
    "    features_train, features_valid, target_train, target_valid = train_test_split(features, target, \n",
    "                                                                                  test_size=0.4, \n",
    "                                                                                  random_state=RANDOM_STATE,\n",
    "                                                                                  stratify=target)\n",
    "    \n",
    "    features_valid, features_test, target_valid, target_test = train_test_split(\n",
    "    features_valid, target_valid, test_size=0.5, random_state=RANDOM_STATE,\n",
    "                                                     stratify=target_valid)\n",
    "    \n",
    "    # уменьшение отрицательного признака в обучающей выборке\n",
    "    features_zeros = features_train[target_train == 0]\n",
    "    features_ones = features_train[target_train == 1]\n",
    "    target_zeros = target_train[target_train == 0]\n",
    "    target_ones = target_train[target_train == 1]\n",
    "\n",
    "    features_train = pd.concat(\n",
    "    [features_zeros.sample(frac=fraction, random_state=RANDOM_STATE)] + [features_ones])\n",
    "    \n",
    "    target_train = pd.concat(\n",
    "    [target_zeros.sample(frac=fraction, random_state=RANDOM_STATE)] + [target_ones])\n",
    "    \n",
    "    # увеличение положительного признака в обучающей выборке\n",
    "    features_zeros = features_train[target_train == 0]\n",
    "    features_ones = features_train[target_train == 1]\n",
    "    target_zeros = target_train[target_train == 0]\n",
    "    target_ones = target_train[target_train == 1]\n",
    "\n",
    "    features_train = pd.concat([features_zeros] + [features_ones] * repeat)\n",
    "    target_train = pd.concat([target_zeros] + [target_ones] * repeat)\n",
    "    \n",
    "    # cоздание матрици cо значениями TF-IDF по корпусу\n",
    "    tf_idf = TfidfVectorizer(stop_words=STOPWORDS)\n",
    "    \n",
    "    tf_idf_model = tf_idf.fit(features_train['text'])\n",
    "    \n",
    "    features_train_tfidf = tf_idf_model.transform(features_train['text'])\n",
    "    features_valid_tfidf = tf_idf_model.transform(features_valid['text'])\n",
    "    features_test_tfidf = tf_idf_model.transform(features_test['text'])\n",
    "\n",
    "\n",
    "    \n",
    "    return features_train_tfidf, features_valid_tfidf, features_test_tfidf, target_train, target_valid, target_test "
   ]
  },
  {
   "cell_type": "markdown",
   "metadata": {},
   "source": [
    "Уменьшу количество данных, чтобы не сильно много время уходило на обучение моделей."
   ]
  },
  {
   "cell_type": "code",
   "execution_count": 120,
   "metadata": {},
   "outputs": [],
   "source": [
    "features_train_tfidf, features_valid_tfidf, features_test_tfidf, target_train, target_valid, target_test = matrix_of_values(toxic_comments, 0.55, 5)"
   ]
  },
  {
   "cell_type": "code",
   "execution_count": 121,
   "metadata": {},
   "outputs": [
    {
     "name": "stdout",
     "output_type": "stream",
     "text": [
      "(95785, 83866)\n",
      "(31858, 83866)\n",
      "(31859, 83866)\n",
      "(95785,)\n",
      "(31858,)\n",
      "(31859,)\n"
     ]
    }
   ],
   "source": [
    "print(features_train_tfidf.shape)\n",
    "print(features_valid_tfidf.shape)\n",
    "print(features_test_tfidf.shape)\n",
    "print(target_train.shape)\n",
    "print(target_valid.shape)\n",
    "print(target_test.shape)"
   ]
  },
  {
   "cell_type": "code",
   "execution_count": 122,
   "metadata": {},
   "outputs": [
    {
     "name": "stdout",
     "output_type": "stream",
     "text": [
      "1    0.506969\n",
      "0    0.493031\n",
      "Name: toxic, dtype: float64\n"
     ]
    },
    {
     "data": {
      "image/png": "[encoded data removed]",
      "text/plain": [
       "<Figure size 200x500 with 1 Axes>"
      ]
     },
     "metadata": {},
     "output_type": "display_data"
    }
   ],
   "source": [
    "# обзор соотношения классов после балансировки в обучающей выборке\n",
    "class_repeat = target_train.value_counts(normalize=True)\n",
    "print(class_repeat)\n",
    "plt.figure(figsize=(2, 5))\n",
    "class_repeat.plot(kind='bar')\n",
    "plt.xlabel('Значение признака')\n",
    "plt.ylabel('Процент от обшего числа')\n",
    "plt.title('Распределение целевого признака')\n",
    "plt.show()"
   ]
  },
  {
   "cell_type": "code",
   "execution_count": 123,
   "metadata": {},
   "outputs": [
    {
     "name": "stdout",
     "output_type": "stream",
     "text": [
      "0    0.898396\n",
      "1    0.101604\n",
      "Name: toxic, dtype: float64\n"
     ]
    },
    {
     "data": {
      "image/png": "[encoded data removed]",
      "text/plain": [
       "<Figure size 200x500 with 1 Axes>"
      ]
     },
     "metadata": {},
     "output_type": "display_data"
    }
   ],
   "source": [
    "# обзор соотношения классов после балансировки в тестовой выборке\n",
    "class_repeat = target_test.value_counts(normalize=True)\n",
    "print(class_repeat)\n",
    "plt.figure(figsize=(2, 5))\n",
    "class_repeat.plot(kind='bar')\n",
    "plt.xlabel('Значение признака')\n",
    "plt.ylabel('Процент от обшего числа')\n",
    "plt.title('Распределение целевого признака')\n",
    "plt.show()"
   ]
  },
  {
   "cell_type": "markdown",
   "metadata": {},
   "source": [
    "Данные переведены в векторный вид для вычислений и сбалансированы."
   ]
  },
  {
   "cell_type": "markdown",
   "metadata": {},
   "source": [
    "## Обучение"
   ]
  },
  {
   "cell_type": "markdown",
   "metadata": {},
   "source": [
    "Обучим 3 модели."
   ]
  },
  {
   "cell_type": "code",
   "execution_count": 124,
   "metadata": {},
   "outputs": [],
   "source": [
    "# таблица для сбора показателей моделей\n",
    "table_1 = pd.DataFrame({'Модель': [], 'F1': [], 'Параметры модли': []})"
   ]
  },
  {
   "cell_type": "code",
   "execution_count": 125,
   "metadata": {},
   "outputs": [
    {
     "name": "stderr",
     "output_type": "stream",
     "text": [
      "C:\\Users\\Константин\\AppData\\Roaming\\Python\\Python39\\site-packages\\sklearn\\linear_model\\_logistic.py:458: ConvergenceWarning: lbfgs failed to converge (status=1):\n",
      "STOP: TOTAL NO. of ITERATIONS REACHED LIMIT.\n",
      "\n",
      "Increase the number of iterations (max_iter) or scale the data as shown in:\n",
      "    https://scikit-learn.org/stable/modules/preprocessing.html\n",
      "Please also refer to the documentation for alternative solver options:\n",
      "    https://scikit-learn.org/stable/modules/linear_model.html#logistic-regression\n",
      "  n_iter_i = _check_optimize_result(\n",
      "C:\\Users\\Константин\\AppData\\Roaming\\Python\\Python39\\site-packages\\sklearn\\linear_model\\_logistic.py:458: ConvergenceWarning: lbfgs failed to converge (status=1):\n",
      "STOP: TOTAL NO. of ITERATIONS REACHED LIMIT.\n",
      "\n",
      "Increase the number of iterations (max_iter) or scale the data as shown in:\n",
      "    https://scikit-learn.org/stable/modules/preprocessing.html\n",
      "Please also refer to the documentation for alternative solver options:\n",
      "    https://scikit-learn.org/stable/modules/linear_model.html#logistic-regression\n",
      "  n_iter_i = _check_optimize_result(\n"
     ]
    },
    {
     "name": "stdout",
     "output_type": "stream",
     "text": [
      "Wall time: 8.62 s\n"
     ]
    },
    {
     "data": {
      "text/html": [
       "<div>\n",
       "<style scoped>\n",
       "    .dataframe tbody tr th:only-of-type {\n",
       "        vertical-align: middle;\n",
       "    }\n",
       "\n",
       "    .dataframe tbody tr th {\n",
       "        vertical-align: top;\n",
       "    }\n",
       "\n",
       "    .dataframe thead th {\n",
       "        text-align: right;\n",
       "    }\n",
       "</style>\n",
       "<table border=\"1\" class=\"dataframe\">\n",
       "  <thead>\n",
       "    <tr style=\"text-align: right;\">\n",
       "      <th></th>\n",
       "      <th>Модель</th>\n",
       "      <th>F1</th>\n",
       "      <th>Параметры модли</th>\n",
       "    </tr>\n",
       "  </thead>\n",
       "  <tbody>\n",
       "    <tr>\n",
       "      <th>0</th>\n",
       "      <td>LinearRegression</td>\n",
       "      <td>0.95</td>\n",
       "      <td>{}</td>\n",
       "    </tr>\n",
       "  </tbody>\n",
       "</table>\n",
       "</div>"
      ],
      "text/plain": [
       "             Модель    F1 Параметры модли\n",
       "0  LinearRegression  0.95              {}"
      ]
     },
     "execution_count": 125,
     "metadata": {},
     "output_type": "execute_result"
    }
   ],
   "source": [
    "%%time\n",
    "# создание моди\n",
    "model_1=LogisticRegression(random_state=RANDOM_STATE)\n",
    "# гиперпараметры для обучение\n",
    "parameters={}\n",
    "# рассчет F1 при кросс-валидации\n",
    "tuning_model_1=GridSearchCV(model_1,param_grid=parameters,scoring=SCORER)\n",
    "tuning_model_1.fit(features_train_tfidf, target_train)\n",
    "\n",
    "# добавление данные в таблицу \n",
    "name = 'LinearRegression'\n",
    "table_1.loc[ len(table_1.index )] = [name,\n",
    "                                     '{:.2f}'.format(tuning_model_1.best_score_),\n",
    "                                     tuning_model_1.best_params_\n",
    "                                    ]\n",
    "\n",
    "# вывод данных о модели\n",
    "table_1"
   ]
  },
  {
   "cell_type": "code",
   "execution_count": 126,
   "metadata": {},
   "outputs": [
    {
     "name": "stdout",
     "output_type": "stream",
     "text": [
      "Wall time: 15min 12s\n"
     ]
    },
    {
     "data": {
      "text/html": [
       "<div>\n",
       "<style scoped>\n",
       "    .dataframe tbody tr th:only-of-type {\n",
       "        vertical-align: middle;\n",
       "    }\n",
       "\n",
       "    .dataframe tbody tr th {\n",
       "        vertical-align: top;\n",
       "    }\n",
       "\n",
       "    .dataframe thead th {\n",
       "        text-align: right;\n",
       "    }\n",
       "</style>\n",
       "<table border=\"1\" class=\"dataframe\">\n",
       "  <thead>\n",
       "    <tr style=\"text-align: right;\">\n",
       "      <th></th>\n",
       "      <th>Модель</th>\n",
       "      <th>F1</th>\n",
       "      <th>Параметры модли</th>\n",
       "    </tr>\n",
       "  </thead>\n",
       "  <tbody>\n",
       "    <tr>\n",
       "      <th>0</th>\n",
       "      <td>LinearRegression</td>\n",
       "      <td>0.95</td>\n",
       "      <td>{}</td>\n",
       "    </tr>\n",
       "    <tr>\n",
       "      <th>1</th>\n",
       "      <td>RandomForestClassifier</td>\n",
       "      <td>0.81</td>\n",
       "      <td>{'max_depth': 13, 'max_features': 'sqrt', 'n_e...</td>\n",
       "    </tr>\n",
       "  </tbody>\n",
       "</table>\n",
       "</div>"
      ],
      "text/plain": [
       "                   Модель    F1  \\\n",
       "0        LinearRegression  0.95   \n",
       "1  RandomForestClassifier  0.81   \n",
       "\n",
       "                                     Параметры модли  \n",
       "0                                                 {}  \n",
       "1  {'max_depth': 13, 'max_features': 'sqrt', 'n_e...  "
      ]
     },
     "execution_count": 126,
     "metadata": {},
     "output_type": "execute_result"
    }
   ],
   "source": [
    "%%time\n",
    "# создание моди\n",
    "model_2=RandomForestClassifier(random_state=RANDOM_STATE)\n",
    "# гиперпараметры для обучение\n",
    "parameters={'n_estimators': range (1, 101, 10),\n",
    "            'max_depth' : range (1, 16, 3),\n",
    "            'max_features':['sqrt']\n",
    "           }\n",
    "# рассчет F1 при кросс-валидации\n",
    "tuning_model_2=GridSearchCV(model_2,param_grid=parameters,scoring=SCORER)\n",
    "tuning_model_2.fit(features_train_tfidf, target_train)\n",
    "\n",
    "# добавление данные в таблицу \n",
    "name = 'RandomForestClassifier'\n",
    "table_1.loc[ len(table_1.index )] = [name,\n",
    "                                     '{:.2f}'.format(tuning_model_2.best_score_),\n",
    "                                     tuning_model_2.best_params_\n",
    "                                    ]\n",
    "\n",
    "# вывод данных о модели\n",
    "table_1"
   ]
  },
  {
   "cell_type": "code",
   "execution_count": 127,
   "metadata": {
    "scrolled": true
   },
   "outputs": [
    {
     "name": "stdout",
     "output_type": "stream",
     "text": [
      "Wall time: 15min 21s\n"
     ]
    },
    {
     "data": {
      "text/html": [
       "<div>\n",
       "<style scoped>\n",
       "    .dataframe tbody tr th:only-of-type {\n",
       "        vertical-align: middle;\n",
       "    }\n",
       "\n",
       "    .dataframe tbody tr th {\n",
       "        vertical-align: top;\n",
       "    }\n",
       "\n",
       "    .dataframe thead th {\n",
       "        text-align: right;\n",
       "    }\n",
       "</style>\n",
       "<table border=\"1\" class=\"dataframe\">\n",
       "  <thead>\n",
       "    <tr style=\"text-align: right;\">\n",
       "      <th></th>\n",
       "      <th>Модель</th>\n",
       "      <th>F1</th>\n",
       "      <th>Параметры модли</th>\n",
       "    </tr>\n",
       "  </thead>\n",
       "  <tbody>\n",
       "    <tr>\n",
       "      <th>0</th>\n",
       "      <td>LinearRegression</td>\n",
       "      <td>0.95</td>\n",
       "      <td>{}</td>\n",
       "    </tr>\n",
       "    <tr>\n",
       "      <th>1</th>\n",
       "      <td>RandomForestClassifier</td>\n",
       "      <td>0.81</td>\n",
       "      <td>{'max_depth': 13, 'max_features': 'sqrt', 'n_e...</td>\n",
       "    </tr>\n",
       "    <tr>\n",
       "      <th>2</th>\n",
       "      <td>LGBMClassifier</td>\n",
       "      <td>0.98</td>\n",
       "      <td>{'n_estimators': 200, 'num_leaves': 100}</td>\n",
       "    </tr>\n",
       "  </tbody>\n",
       "</table>\n",
       "</div>"
      ],
      "text/plain": [
       "                   Модель    F1  \\\n",
       "0        LinearRegression  0.95   \n",
       "1  RandomForestClassifier  0.81   \n",
       "2          LGBMClassifier  0.98   \n",
       "\n",
       "                                     Параметры модли  \n",
       "0                                                 {}  \n",
       "1  {'max_depth': 13, 'max_features': 'sqrt', 'n_e...  \n",
       "2           {'n_estimators': 200, 'num_leaves': 100}  "
      ]
     },
     "execution_count": 127,
     "metadata": {},
     "output_type": "execute_result"
    }
   ],
   "source": [
    "%%time\n",
    "# создание моди\n",
    "model_3=LGBMClassifier(random_state=RANDOM_STATE)\n",
    "# гиперпараметры для обучение\n",
    "parameters={'n_estimators' : range (50, 201, 50),\n",
    "            'num_leaves' : range (20, 101, 20)\n",
    "           }\n",
    "# рассчет F1 при кросс-валидации\n",
    "tuning_model_3=GridSearchCV(model_3,param_grid=parameters,scoring=SCORER)\n",
    "tuning_model_3.fit(features_train_tfidf, target_train)\n",
    "\n",
    "# добавление данные в таблицу \n",
    "name = 'LGBMClassifier'\n",
    "table_1.loc[ len(table_1.index )] = [name,\n",
    "                                     '{:.2f}'.format(tuning_model_3.best_score_),\n",
    "                                     tuning_model_3.best_params_\n",
    "                                    ]\n",
    "\n",
    "# вывод данных о модели\n",
    "table_1"
   ]
  },
  {
   "cell_type": "markdown",
   "metadata": {},
   "source": [
    "Было обучено 3 модели. Лучшие показатели у LGBMClassifier."
   ]
  },
  {
   "cell_type": "markdown",
   "metadata": {},
   "source": [
    "## Выводы"
   ]
  },
  {
   "cell_type": "code",
   "execution_count": 128,
   "metadata": {},
   "outputs": [
    {
     "data": {
      "text/html": [
       "<div>\n",
       "<style scoped>\n",
       "    .dataframe tbody tr th:only-of-type {\n",
       "        vertical-align: middle;\n",
       "    }\n",
       "\n",
       "    .dataframe tbody tr th {\n",
       "        vertical-align: top;\n",
       "    }\n",
       "\n",
       "    .dataframe thead th {\n",
       "        text-align: right;\n",
       "    }\n",
       "</style>\n",
       "<table border=\"1\" class=\"dataframe\">\n",
       "  <thead>\n",
       "    <tr style=\"text-align: right;\">\n",
       "      <th></th>\n",
       "      <th>Модель</th>\n",
       "      <th>F1</th>\n",
       "      <th>Параметры модли</th>\n",
       "    </tr>\n",
       "  </thead>\n",
       "  <tbody>\n",
       "    <tr>\n",
       "      <th>0</th>\n",
       "      <td>LinearRegression</td>\n",
       "      <td>0.95</td>\n",
       "      <td>{}</td>\n",
       "    </tr>\n",
       "    <tr>\n",
       "      <th>1</th>\n",
       "      <td>RandomForestClassifier</td>\n",
       "      <td>0.81</td>\n",
       "      <td>{'max_depth': 13, 'max_features': 'sqrt', 'n_e...</td>\n",
       "    </tr>\n",
       "    <tr>\n",
       "      <th>2</th>\n",
       "      <td>LGBMClassifier</td>\n",
       "      <td>0.98</td>\n",
       "      <td>{'n_estimators': 200, 'num_leaves': 100}</td>\n",
       "    </tr>\n",
       "    <tr>\n",
       "      <th>3</th>\n",
       "      <td>BestModelTest</td>\n",
       "      <td>0.76</td>\n",
       "      <td>{'n_estimators': 200, 'num_leaves': 100}</td>\n",
       "    </tr>\n",
       "  </tbody>\n",
       "</table>\n",
       "</div>"
      ],
      "text/plain": [
       "                   Модель    F1  \\\n",
       "0        LinearRegression  0.95   \n",
       "1  RandomForestClassifier  0.81   \n",
       "2          LGBMClassifier  0.98   \n",
       "3           BestModelTest  0.76   \n",
       "\n",
       "                                     Параметры модли  \n",
       "0                                                 {}  \n",
       "1  {'max_depth': 13, 'max_features': 'sqrt', 'n_e...  \n",
       "2           {'n_estimators': 200, 'num_leaves': 100}  \n",
       "3           {'n_estimators': 200, 'num_leaves': 100}  "
      ]
     },
     "execution_count": 128,
     "metadata": {},
     "output_type": "execute_result"
    }
   ],
   "source": [
    "# рассчитаем финальное F1 для тестовой выборки на лучшей модели\n",
    "predictions = tuning_model_3.predict(features_test_tfidf)\n",
    "f1 = f1_score(target_test, predictions)\n",
    "name = 'BestModelTest'\n",
    "# перенос данных из лучшей модели \n",
    "best_params = tuning_model_3.best_params_\n",
    "# добавление данные в таблицу \n",
    "table_1.loc[ len(table_1.index )] = [name,\n",
    "                                     '{:.2f}'.format(f1),\n",
    "                                     best_params\n",
    "                                    ]\n",
    "\n",
    "# вывод данных о модели\n",
    "table_1"
   ]
  },
  {
   "cell_type": "code",
   "execution_count": 129,
   "metadata": {},
   "outputs": [
    {
     "data": {
      "text/html": [
       "<div>\n",
       "<style scoped>\n",
       "    .dataframe tbody tr th:only-of-type {\n",
       "        vertical-align: middle;\n",
       "    }\n",
       "\n",
       "    .dataframe tbody tr th {\n",
       "        vertical-align: top;\n",
       "    }\n",
       "\n",
       "    .dataframe thead th {\n",
       "        text-align: right;\n",
       "    }\n",
       "</style>\n",
       "<table border=\"1\" class=\"dataframe\">\n",
       "  <thead>\n",
       "    <tr style=\"text-align: right;\">\n",
       "      <th></th>\n",
       "      <th>Модель</th>\n",
       "      <th>F1</th>\n",
       "      <th>Параметры модли</th>\n",
       "    </tr>\n",
       "  </thead>\n",
       "  <tbody>\n",
       "    <tr>\n",
       "      <th>0</th>\n",
       "      <td>LinearRegression</td>\n",
       "      <td>0.95</td>\n",
       "      <td>{}</td>\n",
       "    </tr>\n",
       "    <tr>\n",
       "      <th>1</th>\n",
       "      <td>RandomForestClassifier</td>\n",
       "      <td>0.81</td>\n",
       "      <td>{'max_depth': 13, 'max_features': 'sqrt', 'n_e...</td>\n",
       "    </tr>\n",
       "    <tr>\n",
       "      <th>2</th>\n",
       "      <td>LGBMClassifier</td>\n",
       "      <td>0.98</td>\n",
       "      <td>{'n_estimators': 200, 'num_leaves': 100}</td>\n",
       "    </tr>\n",
       "    <tr>\n",
       "      <th>3</th>\n",
       "      <td>BestModelTest</td>\n",
       "      <td>0.76</td>\n",
       "      <td>{'n_estimators': 200, 'num_leaves': 100}</td>\n",
       "    </tr>\n",
       "    <tr>\n",
       "      <th>4</th>\n",
       "      <td>DummyRegressor</td>\n",
       "      <td>0.17</td>\n",
       "      <td>{'n_estimators': 200, 'num_leaves': 100}</td>\n",
       "    </tr>\n",
       "  </tbody>\n",
       "</table>\n",
       "</div>"
      ],
      "text/plain": [
       "                   Модель    F1  \\\n",
       "0        LinearRegression  0.95   \n",
       "1  RandomForestClassifier  0.81   \n",
       "2          LGBMClassifier  0.98   \n",
       "3           BestModelTest  0.76   \n",
       "4          DummyRegressor  0.17   \n",
       "\n",
       "                                     Параметры модли  \n",
       "0                                                 {}  \n",
       "1  {'max_depth': 13, 'max_features': 'sqrt', 'n_e...  \n",
       "2           {'n_estimators': 200, 'num_leaves': 100}  \n",
       "3           {'n_estimators': 200, 'num_leaves': 100}  \n",
       "4           {'n_estimators': 200, 'num_leaves': 100}  "
      ]
     },
     "execution_count": 129,
     "metadata": {},
     "output_type": "execute_result"
    }
   ],
   "source": [
    "# рассчитаем финальное F1 для тестовой выборки на проверочной модели\n",
    "dummy_model = DummyClassifier(random_state=RANDOM_STATE, strategy = 'uniform')\n",
    "dummy_model.fit(features_train_tfidf, target_train)\n",
    "\n",
    "dummy_test_predictions = dummy_model.predict(features_test_tfidf)\n",
    "\n",
    "f1 = f1_score(target_test, dummy_test_predictions)\n",
    "name = 'DummyRegressor'\n",
    "# добавление данные в таблицу \n",
    "table_1.loc[ len(table_1.index )] = [name,\n",
    "                                     '{:.2f}'.format(f1),\n",
    "                                     best_params\n",
    "                                    ]\n",
    "\n",
    "# вывод данных о модели\n",
    "table_1"
   ]
  },
  {
   "cell_type": "markdown",
   "metadata": {},
   "source": [
    "**Вывод**\n",
    "- В данных не имеют пропусков и дубликатов.\n",
    "- Данные были преобразованы и сбалансированны.\n",
    "- Произведена обработка данных. Выполнено обучение 3 моделей и сбор параметров их работы на основе которых выбрана лучшая LGBMClassifier. \n",
    "- Произведено сравнение результатов LGBMClassifier и DummyClassifier на тестовой выборке. Модель адекватна и показывает требуемую точность установленной метрики. \n",
    "- Рекомендую LGBMClassifier для использования в качестве модели поиска токсичных комментариев."
   ]
  }
 ],
 "metadata": {
  "ExecuteTimeLog": [
   {
    "duration": 12307,
    "start_time": "2023-03-11T13:51:57.792Z"
   },
   {
    "duration": 488,
    "start_time": "2023-03-11T13:52:10.102Z"
   },
   {
    "duration": 11422,
    "start_time": "2023-03-11T13:52:10.598Z"
   },
   {
    "duration": 72,
    "start_time": "2023-03-11T13:52:22.023Z"
   },
   {
    "duration": 6208,
    "start_time": "2023-03-11T13:52:22.097Z"
   },
   {
    "duration": 95,
    "start_time": "2023-03-11T13:52:28.310Z"
   },
   {
    "duration": 184,
    "start_time": "2023-03-11T13:52:28.411Z"
   },
   {
    "duration": 120,
    "start_time": "2023-03-11T13:52:28.600Z"
   },
   {
    "duration": 6716,
    "start_time": "2023-03-11T13:52:28.794Z"
   }
  ],
  "kernelspec": {
   "display_name": "Python 3 (ipykernel)",
   "language": "python",
   "name": "python3"
  },
  "language_info": {
   "codemirror_mode": {
    "name": "ipython",
    "version": 3
   },
   "file_extension": ".py",
   "mimetype": "text/x-python",
   "name": "python",
   "nbconvert_exporter": "python",
   "pygments_lexer": "ipython3",
   "version": "3.10.8"
  },
  "toc": {
   "base_numbering": 1,
   "nav_menu": {},
   "number_sections": true,
   "sideBar": true,
   "skip_h1_title": true,
   "title_cell": "Содержание",
   "title_sidebar": "Contents",
   "toc_cell": true,
   "toc_position": {
    "height": "calc(100% - 180px)",
    "left": "10px",
    "top": "150px",
    "width": "302.391px"
   },
   "toc_section_display": true,
   "toc_window_display": false
  }
 },
 "nbformat": 4,
 "nbformat_minor": 4
}
